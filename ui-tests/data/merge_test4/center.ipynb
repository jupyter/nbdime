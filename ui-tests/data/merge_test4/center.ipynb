{
 "cells": [
  {
   "cell_type": "code",
   "execution_count": null,
   "id": "eabfe4e0-d646-4d09-95a4-09ee3d030db6",
   "metadata": {},
   "outputs": [],
   "source": [
    "import numpy as np\n",
    "import matplotlib.pyplot as plt\n",
    "\n",
    "def gaussian(x, a, b, c):\n",
    "    return a * np.exp(-b * (x-c)**2)\n",
    "\n",
    "def sinus ():\n",
    "    # Here you can see a sinus function\n",
    "    x = np.linspace(-5.0, 5.0, 100)\n",
    "    y = np.sin(x)\n",
    "    return x, y\n",
    "\n",
    "def noisy_gaussian():\n",
    "    # gaussian array y in interval -5 <= x <= 5\n",
    "    nx = 100\n",
    "    x = np.linspace(-5.0, 5.0, nx)\n",
    "    y = gaussian(x, a=2.0, b=0.5, c=1.5)\n",
    "    noise = np.random.normal(0.0, 0.2, nx)\n",
    "    y += noise\n",
    "    # add a line\n",
    "    # add a second line\n",
    "    return x, y"
   ]
  }
 ],
 "metadata": {
  "kernelspec": {
   "display_name": "Python 3 (ipykernel)",
   "language": "python",
   "name": "python3"
  },
  "language_info": {
   "codemirror_mode": {
    "name": "ipython",
    "version": 3
   },
   "file_extension": ".py",
   "mimetype": "text/x-python",
   "name": "python",
   "nbconvert_exporter": "python",
   "pygments_lexer": "ipython3",
   "version": "3.11.3"
  }
 },
 "nbformat": 4,
 "nbformat_minor": 5
}
