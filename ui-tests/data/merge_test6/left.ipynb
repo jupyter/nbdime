{
    "cells": [
        {
            "cell_type": "markdown",
            "id": "b84ee5a1",
            "metadata": {},
            "source": [
                "# a-branch notebook"
            ]
        },
        {
            "cell_type": "code",
            "execution_count": 1,
            "id": "a29ef27d",
            "metadata": {},
            "outputs": [
                {
                    "data": {
                        "text/plain": [
                            "'hello the world'"
                        ]
                    },
                    "execution_count": 1,
                    "metadata": {},
                    "output_type": "execute_result"
                }
            ],
            "source": [
                "# This is the first cell in the initial commit\n",
                "a = \"hello the world\"\n",
                "a"
            ]
        },
        {
            "cell_type": "code",
            "execution_count": 2,
            "id": "a29bf27d",
            "metadata": {},
            "outputs": [
                {
                    "data": {
                        "text/plain": [
                            "'The answer is 42'"
                        ]
                    },
                    "execution_count": 2,
                    "metadata": {},
                    "output_type": "execute_result"
                }
            ],
            "source": [
                "# This is a new cell in a-branch\n",
                "b = \"The answer is 42\"\n",
                "b"
            ]
        },
        {
            "cell_type": "code",
            "execution_count": 3,
            "id": "0b24d979",
            "metadata": {},
            "outputs": [
                {
                    "data": {
                        "text/plain": [
                            "'hello a-branch'"
                        ]
                    },
                    "execution_count": 3,
                    "metadata": {},
                    "output_type": "execute_result"
                }
            ],
            "source": [
                "# This is the last cell in the initial commit\n",
                "a.replace(\"the world\", \"a-branch\")"
            ]
        }
    ],
    "metadata": {
        "kernelspec": {
            "display_name": "Python 3",
            "language": "python",
            "name": "python3"
        },
        "language_info": {
            "codemirror_mode": {
                "name": "ipython",
                "version": 3
            },
            "file_extension": ".py",
            "mimetype": "text/x-python",
            "name": "python",
            "nbconvert_exporter": "python",
            "pygments_lexer": "ipython3",
            "version": "3.9.5"
        }
    },
    "nbformat": 4,
    "nbformat_minor": 5
}