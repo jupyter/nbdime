{
 "cells": [
  {
   "cell_type": "code",
   "execution_count": null,
   "id": "08e85e68-1722-4847-a13f-97c921829073",
   "metadata": {},
   "outputs": [],
   "source": [
    "# Download the data from the EPA website\n",
    "data_file_urls = [\n",
    "    'https://aqs.epa.gov/aqsweb/airdata/daily_88101_2020.zip',\n",
    "    'https://aqs.epa.gov/aqsweb/airdata/daily_88101_2019.zip',\n",
    "]\n",
    "# copied this example from https://stackoverflow.com/questions/16694907/download-large-file-in-python-with-requests\n",
    "for url in data_file_urls:\n",
    "    local_filename = \"data/{}\".format(url.split('/')[-1])\n",
    "    with requests.get(url, stream=True) as r:\n",
    "        r.raise_for_status()\n",
    "        with open(local_filename, 'wb') as f:\n",
    "            for chunk in r.iter_content(chunk_size=8192): \n",
    "                f.write(chunk)\n",
    "# and unzip the files\n",
    "files_to_unzip = [\"data/{}\".format(url.split('/')[-1]) for url in data_file_urls]\n",
    "for f in files_to_unzip:\n",
    "    with zipfile.ZipFile(f,\"r\") as zip_ref:\n",
    "        zip_ref.extractall(\"data\")"
   ]
  }
 ],
 "metadata": {
  "kernelspec": {
   "display_name": "Python 3 (ipykernel)",
   "language": "python",
   "name": "python3"
  },
  "language_info": {
   "codemirror_mode": {
    "name": "ipython",
    "version": 3
   },
   "file_extension": ".py",
   "mimetype": "text/x-python",
   "name": "python",
   "nbconvert_exporter": "python",
   "pygments_lexer": "ipython3",
   "version": "3.11.4"
  }
 },
 "nbformat": 4,
 "nbformat_minor": 5
}
