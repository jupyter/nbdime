{
 "cells": [
  {
   "cell_type": "code",
   "execution_count": null,
   "id": "08e85e68-1722-4847-a13f-97c921829073",
   "metadata": {},
   "outputs": [],
   "source": [
    "# Download the data from the EPA website\n",
    "data_file_urls = [\n",
    "    'https://aqs.epa.gov/aqsweb/airdata/daily_88101_2017.zip',\n",
    "    'https://aqs.epa.gov/aqsweb/airdata/daily_88101_2018.zip',\n",
    "]\n",
    "# copied this example from https://stackoverflow.com/questions/16694907/download-large-file-in-python-with-requests\n",
    "for url in data_file_urls:\n",
    "    local_filename = \"data/{}\".format(url.split('/')[-1])\n",
    "    with requests.get(url, stream=True) as t:\n",
    "        t.raise_for_status()\n",
    "        with open(local_filename, 'wb') as f:\n",
    "            for chunk in t.iter_content(chunk_size=8192): \n",
    "                f.write(chunk)"
   ]
  }
 ],
 "metadata": {
  "kernelspec": {
   "display_name": "Python 3 (ipykernel)",
   "language": "python",
   "name": "python3"
  },
  "language_info": {
   "codemirror_mode": {
    "name": "ipython",
    "version": 3
   },
   "file_extension": ".py",
   "mimetype": "text/x-python",
   "name": "python",
   "nbconvert_exporter": "python",
   "pygments_lexer": "ipython3",
   "version": "3.11.4"
  }
 },
 "nbformat": 4,
 "nbformat_minor": 5
}
